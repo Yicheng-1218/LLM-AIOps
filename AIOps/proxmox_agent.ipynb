{
 "cells": [
  {
   "cell_type": "code",
   "execution_count": 446,
   "metadata": {},
   "outputs": [],
   "source": [
    "from dotenv import load_dotenv\n",
    "from langchain_anthropic import ChatAnthropic\n",
    "from langchain_core.tools import tool\n",
    "import requests\n",
    "from langgraph.prebuilt import create_react_agent\n",
    "from langgraph.checkpoint.memory import MemorySaver\n",
    "from typing import Optional, Dict, Any\n",
    "import json\n",
    "import logging\n",
    "import warnings"
   ]
  },
  {
   "cell_type": "code",
   "execution_count": 447,
   "metadata": {},
   "outputs": [],
   "source": [
    "load_dotenv()\n",
    "llm = ChatAnthropic(model=\"claude-3-5-sonnet-20241022\")\n",
    "memory = MemorySaver()"
   ]
  },
  {
   "cell_type": "code",
   "execution_count": 448,
   "metadata": {},
   "outputs": [],
   "source": [
    "# 設置日誌配置\n",
    "logging.basicConfig(\n",
    "    filename='proxmox_api.log',\n",
    "    level=logging.INFO,\n",
    "    format='%(asctime)s - %(levelname)s - %(message)s'\n",
    ")\n",
    "logger = logging.getLogger(__name__)\n",
    "warnings.filterwarnings(\"ignore\")"
   ]
  },
  {
   "cell_type": "code",
   "execution_count": 449,
   "metadata": {},
   "outputs": [],
   "source": [
    "class ToolRegistry:\n",
    "    tools=[]\n",
    "    \n",
    "    @classmethod\n",
    "    def register(cls,func):\n",
    "        \"\"\"裝飾器，用於註冊工具\"\"\"\n",
    "        # 先使用 langchain 的 @tool 裝飾器\n",
    "        decorated_func = tool(func)\n",
    "        # 將裝飾後的函數加入到工具列表\n",
    "        cls.tools.append(decorated_func)\n",
    "        return decorated_func"
   ]
  },
  {
   "cell_type": "code",
   "execution_count": 450,
   "metadata": {},
   "outputs": [],
   "source": [
    "class ProxmoxAPI:\n",
    "    \n",
    "    HOST='192.168.194.128'\n",
    "    PORT=8006\n",
    "    base_url=f'https://{HOST}:{PORT}/api2/json'\n",
    "    headers={\n",
    "    'Authorization': 'PVEAPIToken=root@pam!admin=36f55e65-9206-41b9-bcf2-d04fa6fb30db'\n",
    "    }\n",
    "\n",
    "    @classmethod\n",
    "    def execute_request(cls, method: str, endpoint: str, params: Optional[Dict] = None):\n",
    "        \"\"\"執行 REST 請求\"\"\"\n",
    "        url = f\"{cls.base_url}{endpoint}\"\n",
    "             \n",
    "        try:\n",
    "            response = requests.request(\n",
    "                method=method,\n",
    "                url=url,\n",
    "                headers=cls.headers,\n",
    "                params=params,\n",
    "                verify=False\n",
    "            )\n",
    "            \n",
    "            # 檢查響應狀態，如果不是 2xx，則拋出異常\n",
    "            response.raise_for_status()\n",
    "            response_data = response.json()\n",
    "            \n",
    "            logger.info(f'API Request: {method} {url} \"HTTP/1.1 {response.status_code} {response.reason}\"')\n",
    "            \n",
    "            return response_data\n",
    "            \n",
    "        except Exception as e:\n",
    "            # 記錄異常\n",
    "            logger.error(f\"API Exception: {str(e)}\", exc_info=True)\n",
    "            return {\"error\": str(e)}\n",
    "\n",
    "@ToolRegistry.register\n",
    "def excute_proxmox_api(api_schema:str):\n",
    "    \"\"\"\n",
    "    執行 Proxmox API 請求。\n",
    "    api_schema 應該是一個 JSON 字串，包含以下欄位：\n",
    "    {\n",
    "        \"method\": \"GET/POST/PUT/DELETE\",\n",
    "        \"endpoint\": \"/nodes/{node}/status\",\n",
    "        \"params\": {} (可選)\n",
    "    }\n",
    "    \"\"\"\n",
    "    try:\n",
    "        schema = json.loads(api_schema)\n",
    "        # 驗證必要欄位\n",
    "        if not all(k in schema for k in [\"method\", \"endpoint\"]):\n",
    "            return {\"error\": \"缺少必要欄位\"}\n",
    "        \n",
    "        # 執行請求\n",
    "        return ProxmoxAPI.execute_request(\n",
    "            method=schema[\"method\"],\n",
    "            endpoint=schema[\"endpoint\"],\n",
    "            params=schema.get(\"params\")\n",
    "        )\n",
    "    except json.JSONDecodeError:\n",
    "        return {\"error\": \"無效的 JSON 格式\"}\n",
    "    except Exception as e:\n",
    "        return {\"error\": str(e)}"
   ]
  },
  {
   "cell_type": "code",
   "execution_count": 451,
   "metadata": {},
   "outputs": [],
   "source": [
    "system_prompt = \"\"\"你是一位 Proxmox VE API 專家。你的任務是：\n",
    "1. 理解用戶的需求\n",
    "2. 將需求轉換為適當的 Proxmox API 請求\n",
    "3. 生成正確的 API schema JSON\n",
    "4. 使用 execute_proxmox_api 工具執行請求 (若操作屬於敏感操作，請暫停後續所有動作並請求用戶確認)\n",
    "5. 解析並說明結果\n",
    "\n",
    "請確保生成的 API schema 符合以下格式：\n",
    "{\n",
    "    \"method\": \"GET/POST/PUT/DELETE\",\n",
    "    \"endpoint\": \"/api/endpoint/path\",\n",
    "    \"params\": {} (可選)\n",
    "}\n",
    "\n",
    "請一步一步思考並執行：\n",
    "1. 分析用戶需求\n",
    "2. 選擇合適的 API endpoint\n",
    "3. 生成 API schema\n",
    "4. 執行請求\n",
    "5. 解釋結果\n",
    "\"\"\""
   ]
  },
  {
   "cell_type": "code",
   "execution_count": 452,
   "metadata": {},
   "outputs": [],
   "source": [
    "tools=ToolRegistry.tools\n",
    "agent = create_react_agent(llm,tools,state_modifier=system_prompt,checkpointer=memory)"
   ]
  },
  {
   "cell_type": "code",
   "execution_count": 456,
   "metadata": {},
   "outputs": [
    {
     "name": "stdout",
     "output_type": "stream",
     "text": [
      "================================\u001b[1m Human Message \u001b[0m=================================\n",
      "\n",
      "\n",
      "你還記得我剛剛原本提出的要求嗎?\n",
      "\n"
     ]
    },
    {
     "name": "stderr",
     "output_type": "stream",
     "text": [
      "2024-11-15 14:44:01,179 - INFO - HTTP Request: POST https://api.anthropic.com/v1/messages \"HTTP/1.1 200 OK\"\n"
     ]
    },
    {
     "name": "stdout",
     "output_type": "stream",
     "text": [
      "==================================\u001b[1m Ai Message \u001b[0m==================================\n",
      "\n",
      "抱歉，這是一個新的對話，我沒有辦法看到之前的對話內容。為了能夠更好地幫助你，請你重新告訴我你的需求是什麼？\n",
      "\n",
      "我可以透過 Proxmox VE API 協助你完成各種操作，例如：\n",
      "- 查看節點和虛擬機狀態\n",
      "- 管理虛擬機（創建、啟動、停止、刪除等）\n",
      "- 管理存儲和備份\n",
      "- 監控系統資源\n",
      "- 等等...\n",
      "\n",
      "請告訴我你想要執行什麼操作，我會幫你一步一步完成。\n"
     ]
    }
   ],
   "source": [
    "query= \"\"\"\n",
    "你還記得我剛剛原本提出的要求嗎?\n",
    "\"\"\"\n",
    "config = {\"configurable\": {\"thread_id\": \"test123\"}}\n",
    "for s in agent.stream(\n",
    "    {'messages':query},config,stream_mode='values'):\n",
    "    message = s['messages'][-1]\n",
    "    if isinstance(message, tuple):\n",
    "        print(message)\n",
    "    else:\n",
    "        message.pretty_print()"
   ]
  }
 ],
 "metadata": {
  "kernelspec": {
   "display_name": "ml",
   "language": "python",
   "name": "python3"
  },
  "language_info": {
   "codemirror_mode": {
    "name": "ipython",
    "version": 3
   },
   "file_extension": ".py",
   "mimetype": "text/x-python",
   "name": "python",
   "nbconvert_exporter": "python",
   "pygments_lexer": "ipython3",
   "version": "3.12.5"
  }
 },
 "nbformat": 4,
 "nbformat_minor": 2
}
