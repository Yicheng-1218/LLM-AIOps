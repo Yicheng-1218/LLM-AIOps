{
 "cells": [
  {
   "cell_type": "code",
   "execution_count": 10,
   "metadata": {},
   "outputs": [
    {
     "name": "stdout",
     "output_type": "stream",
     "text": [
      "開始翻譯 Description...\n"
     ]
    },
    {
     "name": "stderr",
     "output_type": "stream",
     "text": [
      "翻譯進度: 100%|██████████| 61/61 [05:30<00:00,  5.42s/it]"
     ]
    },
    {
     "name": "stdout",
     "output_type": "stream",
     "text": [
      "翻譯完成，結果已儲存至: proxmox_api_translated2.csv\n"
     ]
    },
    {
     "name": "stderr",
     "output_type": "stream",
     "text": [
      "\n"
     ]
    }
   ],
   "source": [
    "from langchain_anthropic import ChatAnthropic\n",
    "from langchain_core.output_parsers import StrOutputParser\n",
    "from concurrent.futures import ThreadPoolExecutor\n",
    "import pandas as pd\n",
    "from tqdm import tqdm\n",
    "\n",
    "# 初始化 Claude\n",
    "llm = ChatAnthropic(model=\"claude-3-5-sonnet-20241022\",max_tokens=8192)\n",
    "chain = llm | StrOutputParser()\n",
    "\n",
    "def translate_batch(texts):\n",
    "    \"\"\"批次翻譯文本\"\"\"\n",
    "    if not texts:\n",
    "        return []\n",
    "    \n",
    "    # 將文本組合成一個批次請求\n",
    "    batch_prompt = \"\\n\".join([\n",
    "        f\"Text {i+1}: {text}\" for i, text in enumerate(texts)\n",
    "    ])\n",
    "    \n",
    "    prompt = \\\n",
    "    f\"\"\"請將以下文本從英文翻譯成繁體中文。只需要輸出翻譯結果，每個翻譯之間插入<split>方便我之後分割，\n",
    "    若提供內容的是類似json格式，請只翻譯value的部分，其他部份請保持原樣，若為空json請保持空json\n",
    "    不需要覆述開頭的Text，若為空行請保持空行，請確保你有生成 TEXT -1 個<split>用於正確對應翻譯數量。 \n",
    "    \n",
    "    {batch_prompt}\"\"\"\n",
    "    \n",
    "    response = chain.invoke(prompt)\n",
    "    \n",
    "    # 解析回應\n",
    "    translations = response.strip().split('<split>')\n",
    "    return translations\n",
    "\n",
    "def process_dataframe_parallel(df, column, num_workers=4, batch_size=10):\n",
    "    \"\"\"平行處理 DataFrame 的翻譯任務\"\"\"\n",
    "    # 將資料分成批次\n",
    "    texts = df[column].fillna('').tolist()\n",
    "    batches = [texts[i:i + batch_size] for i in range(0, len(texts), batch_size)]\n",
    "    \n",
    "    results = []\n",
    "    with ThreadPoolExecutor(max_workers=num_workers) as executor:\n",
    "        # 使用 tqdm 顯示進度\n",
    "        futures = list(tqdm(\n",
    "            executor.map(translate_batch, batches),\n",
    "            total=len(batches),\n",
    "            desc=\"翻譯進度\"\n",
    "        ))\n",
    "        \n",
    "        # 合併結果\n",
    "        for batch_result in futures:\n",
    "            results.extend(batch_result)\n",
    "    \n",
    "    return results\n",
    "\n",
    "# 載入資料\n",
    "file_path = './proxmox_api_translated.csv'\n",
    "data = pd.read_csv(file_path)\n",
    "\n",
    "# 執行翻譯\n",
    "print(\"開始翻譯 Description...\")\n",
    "data['Parameter_Details_zh'] = process_dataframe_parallel(data, 'Parameter Details')\n",
    "\n",
    "# 儲存結果\n",
    "translated_file_path = 'proxmox_api_translated2.csv'\n",
    "data.to_csv(translated_file_path, index=False)\n",
    "print(f\"翻譯完成，結果已儲存至: {translated_file_path}\")"
   ]
  }
 ],
 "metadata": {
  "kernelspec": {
   "display_name": "ml",
   "language": "python",
   "name": "python3"
  },
  "language_info": {
   "codemirror_mode": {
    "name": "ipython",
    "version": 3
   },
   "file_extension": ".py",
   "mimetype": "text/x-python",
   "name": "python",
   "nbconvert_exporter": "python",
   "pygments_lexer": "ipython3",
   "version": "3.12.5"
  }
 },
 "nbformat": 4,
 "nbformat_minor": 2
}
