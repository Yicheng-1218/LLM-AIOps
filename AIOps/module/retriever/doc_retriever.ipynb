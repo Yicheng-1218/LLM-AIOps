{
 "cells": [
  {
   "cell_type": "code",
   "execution_count": 82,
   "metadata": {},
   "outputs": [],
   "source": [
    "from transformers import AutoTokenizer\n",
    "import os\n",
    "from langchain_community.document_loaders import PyMuPDFLoader\n",
    "from langchain_community.vectorstores import FAISS\n",
    "from langchain_text_splitters import CharacterTextSplitter\n",
    "from langchain.embeddings import HuggingFaceEmbeddings"
   ]
  },
  {
   "cell_type": "code",
   "execution_count": 83,
   "metadata": {},
   "outputs": [],
   "source": [
    "file_path = \"./proxmox_documents/PVE_Trouble_Shooting_Paged.pdf\"\n",
    "embedding_model = \"BAAI/bge-base-zh-v1.5\""
   ]
  },
  {
   "cell_type": "code",
   "execution_count": 84,
   "metadata": {},
   "outputs": [
    {
     "data": {
      "text/plain": [
       "[Document(metadata={'source': './proxmox_documents/PVE_Trouble_Shooting_Paged.pdf', 'file_path': './proxmox_documents/PVE_Trouble_Shooting_Paged.pdf', 'page': 0, 'total_pages': 10, 'format': 'PDF 1.5', 'title': '', 'author': 'python-docx', 'subject': '', 'keywords': '', 'creator': 'Microsoft® Word 2016', 'producer': 'Microsoft® Word 2016', 'creationDate': \"D:20241202104224+08'00'\", 'modDate': \"D:20241202104224+08'00'\", 'trapped': ''}, page_content='PVE 常見問題與 Trouble Shooting \\n問題 1：無法啟動虛擬機器 (VM) \\n問題類型：VM 啟動問題 \\n問題描述：在 Web 介面中嘗試啟動虛擬機器時出現錯誤訊息，如 \"Cannot access storage\" \\n或 \"Unable to start VM\"。 \\n排解方式： \\n1. 使用 REST API 檢查虛擬機器狀態：GET \\n/api2/json/nodes/{node}/qemu/{vmid}/status/current \\n2. 確認儲存設備是否正常運作：GET /api2/json/nodes/{node}/storage \\n3. 若儲存設備異常，重新掛載或修復存儲。 \\n4. 嘗試手動啟動 VM：POST /api2/json/nodes/{node}/qemu/{vmid}/status/start \\n注意事項：請確認 VM 所需的資源可用，並檢查是否有防火牆或權限\\n問題。 \\n問題 2：無法建立快照 \\n問題類型：快照問題 \\n問題描述：在進行快照操作時，出現 \"Snapshot creation failed\" 錯誤。 \\n排解方式： \\n1. 使用 REST API 確認 VM 狀態是否支援快照：GET \\n/api2/json/nodes/{node}/qemu/{vmid}/status/current \\n2. 執行快照指令：POST /api2/json/nodes/{node}/qemu/{vmid}/snapshot \\n3. 若操作失敗，檢查磁碟格式是否支援快照（例如 QCOW2）。 \\n4. 若磁碟格式不支援，轉換磁碟格式後再重試。 \\n注意事項：轉換磁碟格式前，務必備份相關資料。 \\n \\n \\n'),\n",
       " Document(metadata={'source': './proxmox_documents/PVE_Trouble_Shooting_Paged.pdf', 'file_path': './proxmox_documents/PVE_Trouble_Shooting_Paged.pdf', 'page': 1, 'total_pages': 10, 'format': 'PDF 1.5', 'title': '', 'author': 'python-docx', 'subject': '', 'keywords': '', 'creator': 'Microsoft® Word 2016', 'producer': 'Microsoft® Word 2016', 'creationDate': \"D:20241202104224+08'00'\", 'modDate': \"D:20241202104224+08'00'\", 'trapped': ''}, page_content='問題 3：伺服器資源使用率過高 \\n問題類型：資源管理問題 \\n問題描述：伺服器的 CPU、記憶體或磁碟使用率達到極限，影響 VM 性能。 \\n排解方式： \\n1. 使用 REST API 檢查資源使用情況：GET /api2/json/nodes/{node}/status \\n2. 若記憶體過高，檢查是否有過多 VM 啟動，並釋放資源：POST \\n/api2/json/nodes/{node}/qemu/{vmid}/status/stop \\n3. 若磁碟使用率過高，清理不必要的檔案或備份。 \\n注意事項：考慮提升伺服器硬體規格，或進行資源負載平衡。 \\n問題 4：無法連接到 PVE Web 介面 \\n問題類型：網路或權限問題 \\n問題描述：無法透過瀏覽器存取 PVE Web 介面，可能是網路設定或服務異常。 \\n排解方式： \\n1. 使用 REST API 檢查伺服器網路狀態：GET /api2/json/nodes/{node}/network \\n2. 確認 `pveproxy` 是否運行正常：GET /api2/json/nodes/{node}/services \\n3. 若服務異常，重新啟動服務：POST \\n/api2/json/nodes/{node}/services/pveproxy/restart \\n4. 確認防火牆設置是否阻擋 HTTP/HTTPS 流量。 \\n注意事項：排除網路問題時，確保不影響現有 VM 的運作。 \\n \\n \\n'),\n",
       " Document(metadata={'source': './proxmox_documents/PVE_Trouble_Shooting_Paged.pdf', 'file_path': './proxmox_documents/PVE_Trouble_Shooting_Paged.pdf', 'page': 2, 'total_pages': 10, 'format': 'PDF 1.5', 'title': '', 'author': 'python-docx', 'subject': '', 'keywords': '', 'creator': 'Microsoft® Word 2016', 'producer': 'Microsoft® Word 2016', 'creationDate': \"D:20241202104224+08'00'\", 'modDate': \"D:20241202104224+08'00'\", 'trapped': ''}, page_content='問題 5：無法升級 Proxmox VE \\n問題類型：系統升級問題 \\n問題描述：在升級 PVE 時，出現套件依賴或版本不相容問題。 \\n排解方式： \\n1. 檢查目前 PVE 版本和可用升級：GET /api2/json/version \\n2. 更新套件列表：apt-get update \\n3. 執行升級指令：apt-get dist-upgrade \\n4. 重新啟動伺服器以應用更新。 \\n注意事項：升級前建議備份虛擬機器和重要資料。 \\n問題 6：虛擬機器磁碟掛載失敗 \\n問題類型：磁碟掛載問題 \\n問題描述：嘗試將磁碟掛載到虛擬機器時，出現 \"Failed to mount disk\" 的錯誤。 \\n排解方式： \\n1. 確認磁碟是否已正確新增到存儲池：GET /api2/json/nodes/{node}/storage \\n2. 檢查磁碟是否已被其他虛擬機器使用。 \\n3. 使用 REST API 手動掛載磁碟：POST /api2/json/nodes/{node}/qemu/{vmid}/config \\n4. 重新啟動虛擬機器以應用變更：POST \\n/api2/json/nodes/{node}/qemu/{vmid}/status/restart \\n注意事項：避免多個虛擬機器同時使用同一個磁碟，可能導致資料損\\n壞。 \\n \\n \\n'),\n",
       " Document(metadata={'source': './proxmox_documents/PVE_Trouble_Shooting_Paged.pdf', 'file_path': './proxmox_documents/PVE_Trouble_Shooting_Paged.pdf', 'page': 3, 'total_pages': 10, 'format': 'PDF 1.5', 'title': '', 'author': 'python-docx', 'subject': '', 'keywords': '', 'creator': 'Microsoft® Word 2016', 'producer': 'Microsoft® Word 2016', 'creationDate': \"D:20241202104224+08'00'\", 'modDate': \"D:20241202104224+08'00'\", 'trapped': ''}, page_content='問題 7：叢集節點之間的連線中斷 \\n問題類型：叢集網路問題 \\n問題描述：叢集中的節點無法正常通信，導致部分功能失效。 \\n排解方式： \\n1. 檢查節點之間的網路連通性：ping {node_ip} \\n2. 確認 corosync 配置是否正確：GET /api2/json/nodes/{node}/cluster/status \\n3. 重新啟動 corosync 服務：POST /api2/json/nodes/{node}/services/corosync/restart \\n4. 檢查叢集狀態是否恢復：GET /api2/json/cluster/status \\n注意事項：確保叢集節點的時間同步，避免由於時鐘偏差導致的連線\\n問題。 \\n問題 8：VM 內部網路無法連線 \\n問題類型：網路配置問題 \\n問題描述：虛擬機器無法訪問內部或外部網路。 \\n排解方式： \\n1. 檢查 VM 的網路配置是否正確：GET \\n/api2/json/nodes/{node}/qemu/{vmid}/status/current \\n2. 確認網路橋接是否啟用：GET /api2/json/nodes/{node}/network \\n3. 重新配置網路橋接：POST /api2/json/nodes/{node}/network \\n4. 在 VM 中檢查網卡設定和 IP 分配是否正常。 \\n注意事項：避免網路橋接和 VLAN 配置衝突，確保 VM 獲得正確的 IP \\n地址。 \\n \\n \\n'),\n",
       " Document(metadata={'source': './proxmox_documents/PVE_Trouble_Shooting_Paged.pdf', 'file_path': './proxmox_documents/PVE_Trouble_Shooting_Paged.pdf', 'page': 4, 'total_pages': 10, 'format': 'PDF 1.5', 'title': '', 'author': 'python-docx', 'subject': '', 'keywords': '', 'creator': 'Microsoft® Word 2016', 'producer': 'Microsoft® Word 2016', 'creationDate': \"D:20241202104224+08'00'\", 'modDate': \"D:20241202104224+08'00'\", 'trapped': ''}, page_content='問題 9：虛擬機器無法關機 \\n問題類型：VM 關機問題 \\n問題描述：嘗試關機虛擬機器時，系統無法完成操作。 \\n排解方式： \\n1. 使用 REST API 強制關機虛擬機器：POST \\n/api2/json/nodes/{node}/qemu/{vmid}/status/shutdown \\n2. 若操作失敗，使用 API 執行強制停止：POST \\n/api2/json/nodes/{node}/qemu/{vmid}/status/stop \\n3. 檢查相關日誌以分析問題原因：GET /api2/json/nodes/{node}/qemu/{vmid}/log \\n注意事項：建議先嘗試正常關機，強制關機可能導致資料損壞。 \\n問題 10：Proxmox 記錄日誌過大 \\n問題類型：系統維護問題 \\n問題描述：PVE 日誌文件過大，佔用磁碟空間，可能導致性能問題。 \\n排解方式： \\n1. 檢查日誌文件所在位置：/var/log/ \\n2. 刪除不需要的舊日誌文件：rm /var/log/*.gz \\n3. 使用 logrotate 配置日誌輪替：/etc/logrotate.d/ \\n4. 重新啟動相關服務應用配置：systemctl restart syslog \\n注意事項：刪除日誌時，請確認不會影響未完成的調試或問題排查。 \\n \\n \\n'),\n",
       " Document(metadata={'source': './proxmox_documents/PVE_Trouble_Shooting_Paged.pdf', 'file_path': './proxmox_documents/PVE_Trouble_Shooting_Paged.pdf', 'page': 5, 'total_pages': 10, 'format': 'PDF 1.5', 'title': '', 'author': 'python-docx', 'subject': '', 'keywords': '', 'creator': 'Microsoft® Word 2016', 'producer': 'Microsoft® Word 2016', 'creationDate': \"D:20241202104224+08'00'\", 'modDate': \"D:20241202104224+08'00'\", 'trapped': ''}, page_content='問題 11：儲存池滿導致 VM 停止運行 \\n問題類型：儲存空間問題 \\n問題描述：儲存池空間耗盡，導致虛擬機器無法正常運行。 \\n排解方式： \\n1. 使用 REST API 檢查儲存池使用情況：GET /api2/json/nodes/{node}/storage \\n2. 刪除不需要的快照或備份文件以釋放空間。 \\n3. 遷移部分 VM 到其他儲存池：POST \\n/api2/json/nodes/{node}/qemu/{vmid}/move_disk \\n4. 考慮擴展儲存池容量。 \\n注意事項：釋放空間時，請謹慎操作，避免刪除必要的數據。 \\n問題 12：建立叢集節點時出現權限錯誤 \\n問題類型：叢集配置問題 \\n問題描述：嘗試將新節點加入叢集時出現權限相關錯誤。 \\n排解方式： \\n1. 確認節點的 SSH 公鑰是否正確配置：/root/.ssh/authorized_keys \\n2. 檢查叢集主節點是否允許新節點加入：GET /api2/json/cluster/config \\n3. 使用 `pvecm add` 命令手動加入節點。 \\n4. 若仍有問題，檢查時間同步狀態：timedatectl status \\n注意事項：確保叢集中所有節點的時間同步，避免因時間差異導致的\\n錯誤。 \\n \\n \\n'),\n",
       " Document(metadata={'source': './proxmox_documents/PVE_Trouble_Shooting_Paged.pdf', 'file_path': './proxmox_documents/PVE_Trouble_Shooting_Paged.pdf', 'page': 6, 'total_pages': 10, 'format': 'PDF 1.5', 'title': '', 'author': 'python-docx', 'subject': '', 'keywords': '', 'creator': 'Microsoft® Word 2016', 'producer': 'Microsoft® Word 2016', 'creationDate': \"D:20241202104224+08'00'\", 'modDate': \"D:20241202104224+08'00'\", 'trapped': ''}, page_content='問題 13：無法新增儲存設備到 PVE \\n問題類型：儲存配置問題 \\n問題描述：在 Web 介面或命令列中嘗試新增儲存設備時失敗。 \\n排解方式： \\n1. 確認儲存設備是否已正確連接到伺服器。 \\n2. 使用命令檢查儲存設備狀態：lsblk 或 fdisk -l。 \\n3. 手動將儲存設備掛載到目錄並測試可用性。 \\n4. 在 Web 介面中重新新增儲存設備：POST /api2/json/nodes/{node}/storage \\n注意事項：新增儲存設備前，請備份資料並確認設備格式是否支援 \\nPVE。 \\n問題 14：磁碟 I/O 性能過低 \\n問題類型：性能優化問題 \\n問題描述：虛擬機器磁碟的讀寫速度明顯低於預期，影響系統運行。 \\n排解方式： \\n1. 使用 REST API 檢查磁碟使用情況：GET /api2/json/nodes/{node}/storage \\n2. 確認是否有其他 VM 或任務佔用過多磁碟資源。 \\n3. 為 VM 啟用 IO 限制：POST /api2/json/nodes/{node}/qemu/{vmid}/config \\n4. 優化磁碟配置或考慮更換性能更好的硬體。 \\n注意事項：優化 I/O 性能時，請盡量避免影響現有運行的 VM。 \\n \\n \\n'),\n",
       " Document(metadata={'source': './proxmox_documents/PVE_Trouble_Shooting_Paged.pdf', 'file_path': './proxmox_documents/PVE_Trouble_Shooting_Paged.pdf', 'page': 7, 'total_pages': 10, 'format': 'PDF 1.5', 'title': '', 'author': 'python-docx', 'subject': '', 'keywords': '', 'creator': 'Microsoft® Word 2016', 'producer': 'Microsoft® Word 2016', 'creationDate': \"D:20241202104224+08'00'\", 'modDate': \"D:20241202104224+08'00'\", 'trapped': ''}, page_content='問題 15：VM 無法進行線上遷移 \\n問題類型：遷移問題 \\n問題描述：在執行虛擬機器的線上遷移操作時，出現錯誤並中止。 \\n排解方式： \\n1. 確認源節點和目標節點之間的網路連通性：ping {target_node_ip} \\n2. 檢查叢集狀態是否正常：GET /api2/json/cluster/status \\n3. 確認遷移過程中是否有磁碟未掛載。 \\n4. 嘗試手動進行冷遷移，確認是否有問題：POST \\n/api2/json/nodes/{node}/qemu/{vmid}/migrate \\n注意事項：線上遷移需要穩定的網路環境，並確保存儲之間的兼容性。 \\n問題 16：虛擬機器模板無法部署 \\n問題類型：模板部署問題 \\n問題描述：嘗試從模板建立虛擬機器時，出現 \"Failed to create VM from template\" 錯誤。 \\n排解方式： \\n1. 確認模板是否存在並可用：GET /api2/json/nodes/{node}/qemu \\n2. 檢查模板的儲存設備是否可用。 \\n3. 重新配置模板的磁碟路徑或遷移模板到其他儲存池。 \\n4. 再次嘗試部署虛擬機器：POST /api2/json/nodes/{node}/qemu/{vmid}/clone \\n注意事項：模板的儲存設備必須在線並具備足夠空間。 \\n \\n \\n'),\n",
       " Document(metadata={'source': './proxmox_documents/PVE_Trouble_Shooting_Paged.pdf', 'file_path': './proxmox_documents/PVE_Trouble_Shooting_Paged.pdf', 'page': 8, 'total_pages': 10, 'format': 'PDF 1.5', 'title': '', 'author': 'python-docx', 'subject': '', 'keywords': '', 'creator': 'Microsoft® Word 2016', 'producer': 'Microsoft® Word 2016', 'creationDate': \"D:20241202104224+08'00'\", 'modDate': \"D:20241202104224+08'00'\", 'trapped': ''}, page_content='問題 17：備份任務失敗 \\n問題類型：備份問題 \\n問題描述：備份虛擬機器時出現錯誤，導致任務無法完成。 \\n排解方式： \\n1. 檢查備份目標存儲設備是否有足夠的可用空間：GET \\n/api2/json/nodes/{node}/storage \\n2. 檢查日誌以了解具體錯誤原因：GET /api2/json/nodes/{node}/tasks/{taskid}/log \\n3. 重新配置備份任務：POST /api2/json/nodes/{node}/vzdump \\n4. 嘗試手動執行備份，確認是否正常運行。 \\n注意事項：備份任務的頻率和存儲空間分配應適當規劃，避免頻繁失\\n敗。 \\n問題 18：無法修改 VM 的硬體配置 \\n問題類型：配置問題 \\n問題描述：嘗試修改虛擬機器的硬體配置時，變更無法保存。 \\n排解方式： \\n1. 確認虛擬機器是否正在運行，必要時關閉 VM：POST \\n/api2/json/nodes/{node}/qemu/{vmid}/status/stop \\n2. 使用 REST API 更新配置：POST /api2/json/nodes/{node}/qemu/{vmid}/config \\n3. 重新啟動虛擬機器應用新配置：POST \\n/api2/json/nodes/{node}/qemu/{vmid}/status/start \\n4. 檢查日誌，確保配置變更成功。 \\n注意事項：某些硬體變更需要關閉 VM 後進行，請提前規劃維護窗口。 \\n \\n \\n'),\n",
       " Document(metadata={'source': './proxmox_documents/PVE_Trouble_Shooting_Paged.pdf', 'file_path': './proxmox_documents/PVE_Trouble_Shooting_Paged.pdf', 'page': 9, 'total_pages': 10, 'format': 'PDF 1.5', 'title': '', 'author': 'python-docx', 'subject': '', 'keywords': '', 'creator': 'Microsoft® Word 2016', 'producer': 'Microsoft® Word 2016', 'creationDate': \"D:20241202104224+08'00'\", 'modDate': \"D:20241202104224+08'00'\", 'trapped': ''}, page_content='問題 19：LXC 容器無法啟動 \\n問題類型：容器啟動問題 \\n問題描述：嘗試啟動 LXC 容器時，系統返回錯誤訊息並中止操作。 \\n排解方式： \\n1. 確認容器的配置文件是否完整且正確：/etc/pve/lxc/{vmid}.conf \\n2. 檢查存儲設備是否可用：GET /api2/json/nodes/{node}/storage \\n3. 手動修復容器配置或磁碟掛載問題。 \\n4. 嘗試重新啟動容器：POST /api2/json/nodes/{node}/lxc/{vmid}/status/start \\n注意事項：啟動容器前，請確認所需的網路和存儲資源均可用。 \\n問題 20：無法刪除虛擬機器或快照 \\n問題類型：刪除操作問題 \\n問題描述：嘗試刪除虛擬機器或其快照時，系統無法完成操作。 \\n排解方式： \\n1. 確認虛擬機器是否已關閉：POST /api2/json/nodes/{node}/qemu/{vmid}/status/stop \\n2. 檢查相關快照是否已手動刪除：GET \\n/api2/json/nodes/{node}/qemu/{vmid}/snapshot \\n3. 使用 REST API 執行刪除操作：DELETE /api2/json/nodes/{node}/qemu/{vmid} \\n4. 確認日誌以檢查可能的錯誤原因：GET /api2/json/nodes/{node}/tasks/{taskid}/log \\n注意事項：刪除虛擬機器前，請確認所有數據已備份並無依賴於該 VM \\n的資源。 \\n \\n')]"
      ]
     },
     "execution_count": 84,
     "metadata": {},
     "output_type": "execute_result"
    }
   ],
   "source": [
    "loader = PyMuPDFLoader(file_path)\n",
    "documents = loader.load()\n",
    "documents"
   ]
  },
  {
   "cell_type": "code",
   "execution_count": 85,
   "metadata": {},
   "outputs": [
    {
     "name": "stdout",
     "output_type": "stream",
     "text": [
      "Page 0: 462 tokens\n",
      "Page 1: 408 tokens\n",
      "Page 2: 381 tokens\n",
      "Page 3: 410 tokens\n",
      "Page 4: 389 tokens\n",
      "Page 5: 388 tokens\n",
      "Page 6: 386 tokens\n",
      "Page 7: 405 tokens\n",
      "Page 8: 440 tokens\n",
      "Page 9: 461 tokens\n"
     ]
    }
   ],
   "source": [
    "def count_tokens_per_page_transformers(documents, model_name):\n",
    "    tokenizer = AutoTokenizer.from_pretrained(model_name)\n",
    "    \n",
    "    token_counts = {}\n",
    "    for doc in documents:\n",
    "        page_num = doc.metadata['page']\n",
    "        token_count = len(tokenizer.encode(doc.page_content))\n",
    "        token_counts[page_num] = token_count\n",
    "    \n",
    "    for page, count in sorted(token_counts.items()):\n",
    "        print(f\"Page {page}: {count} tokens\")\n",
    "        \n",
    "    return token_counts\n",
    "\n",
    "# 使用方法\n",
    "token_counts = count_tokens_per_page_transformers(documents,embedding_model)"
   ]
  },
  {
   "cell_type": "code",
   "execution_count": 86,
   "metadata": {},
   "outputs": [
    {
     "name": "stdout",
     "output_type": "stream",
     "text": [
      "20\n"
     ]
    },
    {
     "data": {
      "text/plain": [
       "[Document(metadata={'source': './proxmox_documents/PVE_Trouble_Shooting_Paged.pdf', 'file_path': './proxmox_documents/PVE_Trouble_Shooting_Paged.pdf', 'page': 0, 'total_pages': 10, 'format': 'PDF 1.5', 'title': '', 'author': 'python-docx', 'subject': '', 'keywords': '', 'creator': 'Microsoft® Word 2016', 'producer': 'Microsoft® Word 2016', 'creationDate': \"D:20241202104224+08'00'\", 'modDate': \"D:20241202104224+08'00'\", 'trapped': ''}, page_content='PVE 常見問題與 Trouble Shooting \\n問題 1：無法啟動虛擬機器 (VM) \\n問題類型：VM 啟動問題 \\n問題描述：在 Web 介面中嘗試啟動虛擬機器時出現錯誤訊息，如 \"Cannot access storage\" \\n或 \"Unable to start VM\"。 \\n排解方式： \\n1. 使用 REST API 檢查虛擬機器狀態：GET \\n/api2/json/nodes/{node}/qemu/{vmid}/status/current \\n2. 確認儲存設備是否正常運作：GET /api2/json/nodes/{node}/storage \\n3. 若儲存設備異常，重新掛載或修復存儲。 \\n4. 嘗試手動啟動 VM：POST /api2/json/nodes/{node}/qemu/{vmid}/status/start \\n注意事項：請確認 VM 所需的資源可用，並檢查是否有防火牆或權限\\n問題。 \\n問題 2：無法建立快照 \\n問題類型：快照問題'),\n",
       " Document(metadata={'source': './proxmox_documents/PVE_Trouble_Shooting_Paged.pdf', 'file_path': './proxmox_documents/PVE_Trouble_Shooting_Paged.pdf', 'page': 0, 'total_pages': 10, 'format': 'PDF 1.5', 'title': '', 'author': 'python-docx', 'subject': '', 'keywords': '', 'creator': 'Microsoft® Word 2016', 'producer': 'Microsoft® Word 2016', 'creationDate': \"D:20241202104224+08'00'\", 'modDate': \"D:20241202104224+08'00'\", 'trapped': ''}, page_content='問題。 \\n問題 2：無法建立快照 \\n問題類型：快照問題 \\n問題描述：在進行快照操作時，出現 \"Snapshot creation failed\" 錯誤。 \\n排解方式： \\n1. 使用 REST API 確認 VM 狀態是否支援快照：GET \\n/api2/json/nodes/{node}/qemu/{vmid}/status/current \\n2. 執行快照指令：POST /api2/json/nodes/{node}/qemu/{vmid}/snapshot \\n3. 若操作失敗，檢查磁碟格式是否支援快照（例如 QCOW2）。 \\n4. 若磁碟格式不支援，轉換磁碟格式後再重試。 \\n注意事項：轉換磁碟格式前，務必備份相關資料。'),\n",
       " Document(metadata={'source': './proxmox_documents/PVE_Trouble_Shooting_Paged.pdf', 'file_path': './proxmox_documents/PVE_Trouble_Shooting_Paged.pdf', 'page': 1, 'total_pages': 10, 'format': 'PDF 1.5', 'title': '', 'author': 'python-docx', 'subject': '', 'keywords': '', 'creator': 'Microsoft® Word 2016', 'producer': 'Microsoft® Word 2016', 'creationDate': \"D:20241202104224+08'00'\", 'modDate': \"D:20241202104224+08'00'\", 'trapped': ''}, page_content='問題 3：伺服器資源使用率過高 \\n問題類型：資源管理問題 \\n問題描述：伺服器的 CPU、記憶體或磁碟使用率達到極限，影響 VM 性能。 \\n排解方式： \\n1. 使用 REST API 檢查資源使用情況：GET /api2/json/nodes/{node}/status \\n2. 若記憶體過高，檢查是否有過多 VM 啟動，並釋放資源：POST \\n/api2/json/nodes/{node}/qemu/{vmid}/status/stop \\n3. 若磁碟使用率過高，清理不必要的檔案或備份。 \\n注意事項：考慮提升伺服器硬體規格，或進行資源負載平衡。 \\n問題 4：無法連接到 PVE Web 介面 \\n問題類型：網路或權限問題 \\n問題描述：無法透過瀏覽器存取 PVE Web 介面，可能是網路設定或服務異常。 \\n排解方式： \\n1. 使用 REST API 檢查伺服器網路狀態：GET /api2/json/nodes/{node}/network'),\n",
       " Document(metadata={'source': './proxmox_documents/PVE_Trouble_Shooting_Paged.pdf', 'file_path': './proxmox_documents/PVE_Trouble_Shooting_Paged.pdf', 'page': 1, 'total_pages': 10, 'format': 'PDF 1.5', 'title': '', 'author': 'python-docx', 'subject': '', 'keywords': '', 'creator': 'Microsoft® Word 2016', 'producer': 'Microsoft® Word 2016', 'creationDate': \"D:20241202104224+08'00'\", 'modDate': \"D:20241202104224+08'00'\", 'trapped': ''}, page_content='2. 確認 `pveproxy` 是否運行正常：GET /api2/json/nodes/{node}/services \\n3. 若服務異常，重新啟動服務：POST \\n/api2/json/nodes/{node}/services/pveproxy/restart \\n4. 確認防火牆設置是否阻擋 HTTP/HTTPS 流量。 \\n注意事項：排除網路問題時，確保不影響現有 VM 的運作。'),\n",
       " Document(metadata={'source': './proxmox_documents/PVE_Trouble_Shooting_Paged.pdf', 'file_path': './proxmox_documents/PVE_Trouble_Shooting_Paged.pdf', 'page': 2, 'total_pages': 10, 'format': 'PDF 1.5', 'title': '', 'author': 'python-docx', 'subject': '', 'keywords': '', 'creator': 'Microsoft® Word 2016', 'producer': 'Microsoft® Word 2016', 'creationDate': \"D:20241202104224+08'00'\", 'modDate': \"D:20241202104224+08'00'\", 'trapped': ''}, page_content='問題 5：無法升級 Proxmox VE \\n問題類型：系統升級問題 \\n問題描述：在升級 PVE 時，出現套件依賴或版本不相容問題。 \\n排解方式： \\n1. 檢查目前 PVE 版本和可用升級：GET /api2/json/version \\n2. 更新套件列表：apt-get update \\n3. 執行升級指令：apt-get dist-upgrade \\n4. 重新啟動伺服器以應用更新。 \\n注意事項：升級前建議備份虛擬機器和重要資料。 \\n問題 6：虛擬機器磁碟掛載失敗 \\n問題類型：磁碟掛載問題 \\n問題描述：嘗試將磁碟掛載到虛擬機器時，出現 \"Failed to mount disk\" 的錯誤。 \\n排解方式： \\n1. 確認磁碟是否已正確新增到存儲池：GET /api2/json/nodes/{node}/storage \\n2. 檢查磁碟是否已被其他虛擬機器使用。')]"
      ]
     },
     "execution_count": 86,
     "metadata": {},
     "output_type": "execute_result"
    }
   ],
   "source": [
    "text_splitter = CharacterTextSplitter(chunk_size=450, chunk_overlap=50,separator='\\n')\n",
    "texts = text_splitter.split_documents(documents)\n",
    "print(len(texts))\n",
    "texts[:5]"
   ]
  },
  {
   "cell_type": "code",
   "execution_count": 87,
   "metadata": {},
   "outputs": [
    {
     "name": "stdout",
     "output_type": "stream",
     "text": [
      "FAISS index 不存在快取，正在建立index\n",
      "FAISS index 建立完成\n"
     ]
    }
   ],
   "source": [
    "index_path=\"./faiss/trouble_shooting_index\"\n",
    "embeddings = HuggingFaceEmbeddings(\n",
    "    model_name=embedding_model,\n",
    "    model_kwargs={'device': 'cpu'}, # 如果有 GPU 可以改為 'cuda'\n",
    "    encode_kwargs={'normalize_embeddings': True}\n",
    ")\n",
    "if not os.path.exists(index_path):\n",
    "    # 首次建立：使用 from_documents\n",
    "    print(\"FAISS index 不存在快取，正在建立index\")\n",
    "    vectorstore = FAISS.from_documents(texts, embeddings)\n",
    "    vectorstore.save_local(index_path)\n",
    "    print(\"FAISS index 建立完成\")\n",
    "else:\n",
    "    # 已存在：直接載入\n",
    "    vectorstore = FAISS.load_local(index_path, embeddings,allow_dangerous_deserialization=True)\n",
    "    print(\"FAISS index 存在快取，載入成功\")"
   ]
  },
  {
   "cell_type": "code",
   "execution_count": 88,
   "metadata": {},
   "outputs": [],
   "source": [
    "retriever = vectorstore.as_retriever(search_kwargs={\"k\": 3})"
   ]
  },
  {
   "cell_type": "code",
   "execution_count": 89,
   "metadata": {},
   "outputs": [
    {
     "name": "stdout",
     "output_type": "stream",
     "text": [
      "問題 3：伺服器資源使用率過高 \n",
      "問題類型：資源管理問題 \n",
      "問題描述：伺服器的 CPU、記憶體或磁碟使用率達到極限，影響 VM 性能。 \n",
      "排解方式： \n",
      "1. 使用 REST API 檢查資源使用情況：GET /api2/json/nodes/{node}/status \n",
      "2. 若記憶體過高，檢查是否有過多 VM 啟動，並釋放資源：POST \n",
      "/api2/json/nodes/{node}/qemu/{vmid}/status/stop \n",
      "3. 若磁碟使用率過高，清理不必要的檔案或備份。 \n",
      "注意事項：考慮提升伺服器硬體規格，或進行資源負載平衡。 \n",
      "問題 4：無法連接到 PVE Web 介面 \n",
      "問題類型：網路或權限問題 \n",
      "問題描述：無法透過瀏覽器存取 PVE Web 介面，可能是網路設定或服務異常。 \n",
      "排解方式： \n",
      "1. 使用 REST API 檢查伺服器網路狀態：GET /api2/json/nodes/{node}/network\n",
      "\n",
      "問題 5：無法升級 Proxmox VE \n",
      "問題類型：系統升級問題 \n",
      "問題描述：在升級 PVE 時，出現套件依賴或版本不相容問題。 \n",
      "排解方式： \n",
      "1. 檢查目前 PVE 版本和可用升級：GET /api2/json/version \n",
      "2. 更新套件列表：apt-get update \n",
      "3. 執行升級指令：apt-get dist-upgrade \n",
      "4. 重新啟動伺服器以應用更新。 \n",
      "注意事項：升級前建議備份虛擬機器和重要資料。 \n",
      "問題 6：虛擬機器磁碟掛載失敗 \n",
      "問題類型：磁碟掛載問題 \n",
      "問題描述：嘗試將磁碟掛載到虛擬機器時，出現 \"Failed to mount disk\" 的錯誤。 \n",
      "排解方式： \n",
      "1. 確認磁碟是否已正確新增到存儲池：GET /api2/json/nodes/{node}/storage \n",
      "2. 檢查磁碟是否已被其他虛擬機器使用。\n",
      "\n",
      "問題 13：無法新增儲存設備到 PVE \n",
      "問題類型：儲存配置問題 \n",
      "問題描述：在 Web 介面或命令列中嘗試新增儲存設備時失敗。 \n",
      "排解方式： \n",
      "1. 確認儲存設備是否已正確連接到伺服器。 \n",
      "2. 使用命令檢查儲存設備狀態：lsblk 或 fdisk -l。 \n",
      "3. 手動將儲存設備掛載到目錄並測試可用性。 \n",
      "4. 在 Web 介面中重新新增儲存設備：POST /api2/json/nodes/{node}/storage \n",
      "注意事項：新增儲存設備前，請備份資料並確認設備格式是否支援 \n",
      "PVE。 \n",
      "問題 14：磁碟 I/O 性能過低 \n",
      "問題類型：性能優化問題 \n",
      "問題描述：虛擬機器磁碟的讀寫速度明顯低於預期，影響系統運行。 \n",
      "排解方式： \n",
      "1. 使用 REST API 檢查磁碟使用情況：GET /api2/json/nodes/{node}/storage \n",
      "2. 確認是否有其他 VM 或任務佔用過多磁碟資源。\n",
      "\n"
     ]
    }
   ],
   "source": [
    "query = \"伺服器資源使用率過高\"\n",
    "for i in retriever.invoke(query):\n",
    "    print(i.page_content,end='\\n\\n')"
   ]
  }
 ],
 "metadata": {
  "kernelspec": {
   "display_name": "ml",
   "language": "python",
   "name": "python3"
  },
  "language_info": {
   "codemirror_mode": {
    "name": "ipython",
    "version": 3
   },
   "file_extension": ".py",
   "mimetype": "text/x-python",
   "name": "python",
   "nbconvert_exporter": "python",
   "pygments_lexer": "ipython3",
   "version": "3.12.5"
  }
 },
 "nbformat": 4,
 "nbformat_minor": 2
}
